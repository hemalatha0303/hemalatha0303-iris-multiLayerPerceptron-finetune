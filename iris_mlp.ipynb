{
  "cells": [
    {
      "cell_type": "markdown",
      "metadata": {
        "id": "F4f7R4tWKg-d"
      },
      "source": [
        "# DL Lab - 02 Iris DNN - Practice"
      ]
    },
    {
      "cell_type": "markdown",
      "metadata": {
        "id": "LXjh8uTtC5eA"
      },
      "source": [
        "## Step 1\n",
        "### 1.1 Explain what we did in the following cell"
      ]
    },
    {
      "cell_type": "markdown",
      "metadata": {
        "id": "HJs1QllDr4A3"
      },
      "source": [
        "In the provided cell, several libraries and modules are being imported to set up an environment\n",
        "for data analysis, preprocessing, and machine learning (specifically deep learning)"
      ]
    },
    {
      "cell_type": "code",
      "execution_count": null,
      "metadata": {
        "id": "7l0VsqjxC2zn"
      },
      "outputs": [],
      "source": [
        "import pandas as pd\n",
        "import numpy as np\n",
        "import tensorflow as tf\n",
        "import seaborn as sns\n",
        "from tensorflow.keras.models import Sequential\n",
        "from tensorflow.keras.layers import Dense,Dropout\n",
        "from sklearn.preprocessing import LabelEncoder , StandardScaler\n",
        "from sklearn.model_selection import train_test_split\n",
        "from sklearn.metrics import accuracy_score, confusion_matrix"
      ]
    },
    {
      "cell_type": "markdown",
      "metadata": {
        "id": "NQRWfZX5DBAO"
      },
      "source": [
        "## Step 2\n",
        "### 2.1. Explain commented section of the following code.\n",
        "\n"
      ]
    },
    {
      "cell_type": "markdown",
      "metadata": {
        "id": "WCLzujoUrDC4"
      },
      "source": [
        "from sklearn.datasets import load_iris:\n",
        "This line imports the load_iris function from the sklearn.datasets module. load_iris is a utility\n",
        "function that provides access to the Iris dataset, which is commonly used for classification\n",
        "problems. The Iris dataset includes data about three species of iris flowers, with features such as\n",
        "sepal length, sepal width, petal length, and petal width. It's likely a placeholder for how load_iris works for the Iris dataset."
      ]
    },
    {
      "cell_type": "markdown",
      "metadata": {
        "id": "qe224gEtrCIv"
      },
      "source": [
        "### 2.2. Where from the `Iris.csv` has been read from in the uncommented executable line of the code?\n"
      ]
    },
    {
      "cell_type": "markdown",
      "metadata": {
        "id": "cCGcmLSarCVL"
      },
      "source": [
        "df = pd.read_csv('/content/iris.csv') The file iris.csv is being read from the path\n",
        "/content/iris.csv. This path suggests that the code is likely being executed in a Google Colab\n",
        "environment, where /content/ is the default working directory for Colab sessions.\n"
      ]
    },
    {
      "cell_type": "markdown",
      "metadata": {
        "id": "jJo58Z1xq_Gx"
      },
      "source": [
        "### 2.3. Find the reasons by reading the error message, if you couldn't run the following cell. How do you rectify it?"
      ]
    },
    {
      "cell_type": "markdown",
      "metadata": {
        "id": "W681PoOtrXgn"
      },
      "source": [
        "DOUBLE CLICK ON THIS CELL TO WRITE YOUR ANSWER"
      ]
    },
    {
      "cell_type": "code",
      "execution_count": null,
      "metadata": {
        "id": "Guh7Ql2VDCIe"
      },
      "outputs": [],
      "source": [
        "# from sklearn.datasets import load_iris\n",
        "# iris = load_iris()\n",
        "df = pd.read_csv('Iris.csv')"
      ]
    },
    {
      "cell_type": "markdown",
      "metadata": {
        "id": "jfBa9hVZEMne"
      },
      "source": [
        "## Step 3\n",
        "### 3.1. What are we trying to check in the following three cells?\n"
      ]
    },
    {
      "cell_type": "markdown",
      "metadata": {
        "id": "ZAtrYRBAr7__"
      },
      "source": [
        "The three cells help inspect and clean the dataset. df.head() previews the first five rows to verify the data structure. df.isnull().sum() identifies missing values in each column, while df.duplicated().sum() checks for duplicate rows."
      ]
    },
    {
      "cell_type": "markdown",
      "metadata": {
        "id": "L1q0GlRvtOO5"
      },
      "source": [
        "### 3.2 What do you do if you find any `nulls` and/or `duplicates`?"
      ]
    },
    {
      "cell_type": "markdown",
      "metadata": {
        "id": "nKOxwQu4r9Gj"
      },
      "source": [
        "If nulls are found, they can be handled by dropping rows/columns, imputing values (mean, median, mode, etc.), or using advanced methods like model-based imputation. Duplicates can be removed with df.drop_duplicates(), but it’s important to investigate their origin to decide if they hold any value. Proper handling of nulls and duplicates ensures data quality for analysis."
      ]
    },
    {
      "cell_type": "code",
      "execution_count": null,
      "metadata": {
        "colab": {
          "base_uri": "https://localhost:8080/",
          "height": 206
        },
        "id": "MF-8z6vOEMAH",
        "outputId": "bdfee389-9bc0-477e-ffae-6264131e6efe"
      },
      "outputs": [
        {
          "data": {
            "application/vnd.google.colaboratory.intrinsic+json": {
              "summary": "{\n  \"name\": \"df\",\n  \"rows\": 150,\n  \"fields\": [\n    {\n      \"column\": \"Id\",\n      \"properties\": {\n        \"dtype\": \"number\",\n        \"std\": 43,\n        \"min\": 1,\n        \"max\": 150,\n        \"num_unique_values\": 150,\n        \"samples\": [\n          74,\n          19,\n          119\n        ],\n        \"semantic_type\": \"\",\n        \"description\": \"\"\n      }\n    },\n    {\n      \"column\": \"SepalLengthCm\",\n      \"properties\": {\n        \"dtype\": \"number\",\n        \"std\": 0.8280661279778629,\n        \"min\": 4.3,\n        \"max\": 7.9,\n        \"num_unique_values\": 35,\n        \"samples\": [\n          6.2,\n          4.5,\n          5.6\n        ],\n        \"semantic_type\": \"\",\n        \"description\": \"\"\n      }\n    },\n    {\n      \"column\": \"SepalWidthCm\",\n      \"properties\": {\n        \"dtype\": \"number\",\n        \"std\": 0.4335943113621737,\n        \"min\": 2.0,\n        \"max\": 4.4,\n        \"num_unique_values\": 23,\n        \"samples\": [\n          2.3,\n          4.0,\n          3.5\n        ],\n        \"semantic_type\": \"\",\n        \"description\": \"\"\n      }\n    },\n    {\n      \"column\": \"PetalLengthCm\",\n      \"properties\": {\n        \"dtype\": \"number\",\n        \"std\": 1.7644204199522617,\n        \"min\": 1.0,\n        \"max\": 6.9,\n        \"num_unique_values\": 43,\n        \"samples\": [\n          6.7,\n          3.8,\n          3.7\n        ],\n        \"semantic_type\": \"\",\n        \"description\": \"\"\n      }\n    },\n    {\n      \"column\": \"PetalWidthCm\",\n      \"properties\": {\n        \"dtype\": \"number\",\n        \"std\": 0.7631607417008414,\n        \"min\": 0.1,\n        \"max\": 2.5,\n        \"num_unique_values\": 22,\n        \"samples\": [\n          0.2,\n          1.2,\n          1.3\n        ],\n        \"semantic_type\": \"\",\n        \"description\": \"\"\n      }\n    },\n    {\n      \"column\": \"Species\",\n      \"properties\": {\n        \"dtype\": \"category\",\n        \"num_unique_values\": 3,\n        \"samples\": [\n          \"Iris-setosa\",\n          \"Iris-versicolor\",\n          \"Iris-virginica\"\n        ],\n        \"semantic_type\": \"\",\n        \"description\": \"\"\n      }\n    }\n  ]\n}",
              "type": "dataframe",
              "variable_name": "df"
            },
            "text/html": [
              "\n",
              "  <div id=\"df-58d97354-1619-4beb-9578-1aba36f51bb2\" class=\"colab-df-container\">\n",
              "    <div>\n",
              "<style scoped>\n",
              "    .dataframe tbody tr th:only-of-type {\n",
              "        vertical-align: middle;\n",
              "    }\n",
              "\n",
              "    .dataframe tbody tr th {\n",
              "        vertical-align: top;\n",
              "    }\n",
              "\n",
              "    .dataframe thead th {\n",
              "        text-align: right;\n",
              "    }\n",
              "</style>\n",
              "<table border=\"1\" class=\"dataframe\">\n",
              "  <thead>\n",
              "    <tr style=\"text-align: right;\">\n",
              "      <th></th>\n",
              "      <th>Id</th>\n",
              "      <th>SepalLengthCm</th>\n",
              "      <th>SepalWidthCm</th>\n",
              "      <th>PetalLengthCm</th>\n",
              "      <th>PetalWidthCm</th>\n",
              "      <th>Species</th>\n",
              "    </tr>\n",
              "  </thead>\n",
              "  <tbody>\n",
              "    <tr>\n",
              "      <th>0</th>\n",
              "      <td>1</td>\n",
              "      <td>5.1</td>\n",
              "      <td>3.5</td>\n",
              "      <td>1.4</td>\n",
              "      <td>0.2</td>\n",
              "      <td>Iris-setosa</td>\n",
              "    </tr>\n",
              "    <tr>\n",
              "      <th>1</th>\n",
              "      <td>2</td>\n",
              "      <td>4.9</td>\n",
              "      <td>3.0</td>\n",
              "      <td>1.4</td>\n",
              "      <td>0.2</td>\n",
              "      <td>Iris-setosa</td>\n",
              "    </tr>\n",
              "    <tr>\n",
              "      <th>2</th>\n",
              "      <td>3</td>\n",
              "      <td>4.7</td>\n",
              "      <td>3.2</td>\n",
              "      <td>1.3</td>\n",
              "      <td>0.2</td>\n",
              "      <td>Iris-setosa</td>\n",
              "    </tr>\n",
              "    <tr>\n",
              "      <th>3</th>\n",
              "      <td>4</td>\n",
              "      <td>4.6</td>\n",
              "      <td>3.1</td>\n",
              "      <td>1.5</td>\n",
              "      <td>0.2</td>\n",
              "      <td>Iris-setosa</td>\n",
              "    </tr>\n",
              "    <tr>\n",
              "      <th>4</th>\n",
              "      <td>5</td>\n",
              "      <td>5.0</td>\n",
              "      <td>3.6</td>\n",
              "      <td>1.4</td>\n",
              "      <td>0.2</td>\n",
              "      <td>Iris-setosa</td>\n",
              "    </tr>\n",
              "  </tbody>\n",
              "</table>\n",
              "</div>\n",
              "    <div class=\"colab-df-buttons\">\n",
              "\n",
              "  <div class=\"colab-df-container\">\n",
              "    <button class=\"colab-df-convert\" onclick=\"convertToInteractive('df-58d97354-1619-4beb-9578-1aba36f51bb2')\"\n",
              "            title=\"Convert this dataframe to an interactive table.\"\n",
              "            style=\"display:none;\">\n",
              "\n",
              "  <svg xmlns=\"http://www.w3.org/2000/svg\" height=\"24px\" viewBox=\"0 -960 960 960\">\n",
              "    <path d=\"M120-120v-720h720v720H120Zm60-500h600v-160H180v160Zm220 220h160v-160H400v160Zm0 220h160v-160H400v160ZM180-400h160v-160H180v160Zm440 0h160v-160H620v160ZM180-180h160v-160H180v160Zm440 0h160v-160H620v160Z\"/>\n",
              "  </svg>\n",
              "    </button>\n",
              "\n",
              "  <style>\n",
              "    .colab-df-container {\n",
              "      display:flex;\n",
              "      gap: 12px;\n",
              "    }\n",
              "\n",
              "    .colab-df-convert {\n",
              "      background-color: #E8F0FE;\n",
              "      border: none;\n",
              "      border-radius: 50%;\n",
              "      cursor: pointer;\n",
              "      display: none;\n",
              "      fill: #1967D2;\n",
              "      height: 32px;\n",
              "      padding: 0 0 0 0;\n",
              "      width: 32px;\n",
              "    }\n",
              "\n",
              "    .colab-df-convert:hover {\n",
              "      background-color: #E2EBFA;\n",
              "      box-shadow: 0px 1px 2px rgba(60, 64, 67, 0.3), 0px 1px 3px 1px rgba(60, 64, 67, 0.15);\n",
              "      fill: #174EA6;\n",
              "    }\n",
              "\n",
              "    .colab-df-buttons div {\n",
              "      margin-bottom: 4px;\n",
              "    }\n",
              "\n",
              "    [theme=dark] .colab-df-convert {\n",
              "      background-color: #3B4455;\n",
              "      fill: #D2E3FC;\n",
              "    }\n",
              "\n",
              "    [theme=dark] .colab-df-convert:hover {\n",
              "      background-color: #434B5C;\n",
              "      box-shadow: 0px 1px 3px 1px rgba(0, 0, 0, 0.15);\n",
              "      filter: drop-shadow(0px 1px 2px rgba(0, 0, 0, 0.3));\n",
              "      fill: #FFFFFF;\n",
              "    }\n",
              "  </style>\n",
              "\n",
              "    <script>\n",
              "      const buttonEl =\n",
              "        document.querySelector('#df-58d97354-1619-4beb-9578-1aba36f51bb2 button.colab-df-convert');\n",
              "      buttonEl.style.display =\n",
              "        google.colab.kernel.accessAllowed ? 'block' : 'none';\n",
              "\n",
              "      async function convertToInteractive(key) {\n",
              "        const element = document.querySelector('#df-58d97354-1619-4beb-9578-1aba36f51bb2');\n",
              "        const dataTable =\n",
              "          await google.colab.kernel.invokeFunction('convertToInteractive',\n",
              "                                                    [key], {});\n",
              "        if (!dataTable) return;\n",
              "\n",
              "        const docLinkHtml = 'Like what you see? Visit the ' +\n",
              "          '<a target=\"_blank\" href=https://colab.research.google.com/notebooks/data_table.ipynb>data table notebook</a>'\n",
              "          + ' to learn more about interactive tables.';\n",
              "        element.innerHTML = '';\n",
              "        dataTable['output_type'] = 'display_data';\n",
              "        await google.colab.output.renderOutput(dataTable, element);\n",
              "        const docLink = document.createElement('div');\n",
              "        docLink.innerHTML = docLinkHtml;\n",
              "        element.appendChild(docLink);\n",
              "      }\n",
              "    </script>\n",
              "  </div>\n",
              "\n",
              "\n",
              "<div id=\"df-f2fc6e60-5909-4659-9225-a51e4f7aec61\">\n",
              "  <button class=\"colab-df-quickchart\" onclick=\"quickchart('df-f2fc6e60-5909-4659-9225-a51e4f7aec61')\"\n",
              "            title=\"Suggest charts\"\n",
              "            style=\"display:none;\">\n",
              "\n",
              "<svg xmlns=\"http://www.w3.org/2000/svg\" height=\"24px\"viewBox=\"0 0 24 24\"\n",
              "     width=\"24px\">\n",
              "    <g>\n",
              "        <path d=\"M19 3H5c-1.1 0-2 .9-2 2v14c0 1.1.9 2 2 2h14c1.1 0 2-.9 2-2V5c0-1.1-.9-2-2-2zM9 17H7v-7h2v7zm4 0h-2V7h2v10zm4 0h-2v-4h2v4z\"/>\n",
              "    </g>\n",
              "</svg>\n",
              "  </button>\n",
              "\n",
              "<style>\n",
              "  .colab-df-quickchart {\n",
              "      --bg-color: #E8F0FE;\n",
              "      --fill-color: #1967D2;\n",
              "      --hover-bg-color: #E2EBFA;\n",
              "      --hover-fill-color: #174EA6;\n",
              "      --disabled-fill-color: #AAA;\n",
              "      --disabled-bg-color: #DDD;\n",
              "  }\n",
              "\n",
              "  [theme=dark] .colab-df-quickchart {\n",
              "      --bg-color: #3B4455;\n",
              "      --fill-color: #D2E3FC;\n",
              "      --hover-bg-color: #434B5C;\n",
              "      --hover-fill-color: #FFFFFF;\n",
              "      --disabled-bg-color: #3B4455;\n",
              "      --disabled-fill-color: #666;\n",
              "  }\n",
              "\n",
              "  .colab-df-quickchart {\n",
              "    background-color: var(--bg-color);\n",
              "    border: none;\n",
              "    border-radius: 50%;\n",
              "    cursor: pointer;\n",
              "    display: none;\n",
              "    fill: var(--fill-color);\n",
              "    height: 32px;\n",
              "    padding: 0;\n",
              "    width: 32px;\n",
              "  }\n",
              "\n",
              "  .colab-df-quickchart:hover {\n",
              "    background-color: var(--hover-bg-color);\n",
              "    box-shadow: 0 1px 2px rgba(60, 64, 67, 0.3), 0 1px 3px 1px rgba(60, 64, 67, 0.15);\n",
              "    fill: var(--button-hover-fill-color);\n",
              "  }\n",
              "\n",
              "  .colab-df-quickchart-complete:disabled,\n",
              "  .colab-df-quickchart-complete:disabled:hover {\n",
              "    background-color: var(--disabled-bg-color);\n",
              "    fill: var(--disabled-fill-color);\n",
              "    box-shadow: none;\n",
              "  }\n",
              "\n",
              "  .colab-df-spinner {\n",
              "    border: 2px solid var(--fill-color);\n",
              "    border-color: transparent;\n",
              "    border-bottom-color: var(--fill-color);\n",
              "    animation:\n",
              "      spin 1s steps(1) infinite;\n",
              "  }\n",
              "\n",
              "  @keyframes spin {\n",
              "    0% {\n",
              "      border-color: transparent;\n",
              "      border-bottom-color: var(--fill-color);\n",
              "      border-left-color: var(--fill-color);\n",
              "    }\n",
              "    20% {\n",
              "      border-color: transparent;\n",
              "      border-left-color: var(--fill-color);\n",
              "      border-top-color: var(--fill-color);\n",
              "    }\n",
              "    30% {\n",
              "      border-color: transparent;\n",
              "      border-left-color: var(--fill-color);\n",
              "      border-top-color: var(--fill-color);\n",
              "      border-right-color: var(--fill-color);\n",
              "    }\n",
              "    40% {\n",
              "      border-color: transparent;\n",
              "      border-right-color: var(--fill-color);\n",
              "      border-top-color: var(--fill-color);\n",
              "    }\n",
              "    60% {\n",
              "      border-color: transparent;\n",
              "      border-right-color: var(--fill-color);\n",
              "    }\n",
              "    80% {\n",
              "      border-color: transparent;\n",
              "      border-right-color: var(--fill-color);\n",
              "      border-bottom-color: var(--fill-color);\n",
              "    }\n",
              "    90% {\n",
              "      border-color: transparent;\n",
              "      border-bottom-color: var(--fill-color);\n",
              "    }\n",
              "  }\n",
              "</style>\n",
              "\n",
              "  <script>\n",
              "    async function quickchart(key) {\n",
              "      const quickchartButtonEl =\n",
              "        document.querySelector('#' + key + ' button');\n",
              "      quickchartButtonEl.disabled = true;  // To prevent multiple clicks.\n",
              "      quickchartButtonEl.classList.add('colab-df-spinner');\n",
              "      try {\n",
              "        const charts = await google.colab.kernel.invokeFunction(\n",
              "            'suggestCharts', [key], {});\n",
              "      } catch (error) {\n",
              "        console.error('Error during call to suggestCharts:', error);\n",
              "      }\n",
              "      quickchartButtonEl.classList.remove('colab-df-spinner');\n",
              "      quickchartButtonEl.classList.add('colab-df-quickchart-complete');\n",
              "    }\n",
              "    (() => {\n",
              "      let quickchartButtonEl =\n",
              "        document.querySelector('#df-f2fc6e60-5909-4659-9225-a51e4f7aec61 button');\n",
              "      quickchartButtonEl.style.display =\n",
              "        google.colab.kernel.accessAllowed ? 'block' : 'none';\n",
              "    })();\n",
              "  </script>\n",
              "</div>\n",
              "\n",
              "    </div>\n",
              "  </div>\n"
            ],
            "text/plain": [
              "   Id  SepalLengthCm  SepalWidthCm  PetalLengthCm  PetalWidthCm      Species\n",
              "0   1            5.1           3.5            1.4           0.2  Iris-setosa\n",
              "1   2            4.9           3.0            1.4           0.2  Iris-setosa\n",
              "2   3            4.7           3.2            1.3           0.2  Iris-setosa\n",
              "3   4            4.6           3.1            1.5           0.2  Iris-setosa\n",
              "4   5            5.0           3.6            1.4           0.2  Iris-setosa"
            ]
          },
          "execution_count": 3,
          "metadata": {},
          "output_type": "execute_result"
        }
      ],
      "source": [
        "df.head()"
      ]
    },
    {
      "cell_type": "code",
      "execution_count": null,
      "metadata": {
        "colab": {
          "base_uri": "https://localhost:8080/",
          "height": 272
        },
        "id": "13Sb8l5dEjDX",
        "outputId": "7439c9af-dec4-4b7d-f2ea-d21250cdfe10"
      },
      "outputs": [
        {
          "data": {
            "text/html": [
              "<div>\n",
              "<style scoped>\n",
              "    .dataframe tbody tr th:only-of-type {\n",
              "        vertical-align: middle;\n",
              "    }\n",
              "\n",
              "    .dataframe tbody tr th {\n",
              "        vertical-align: top;\n",
              "    }\n",
              "\n",
              "    .dataframe thead th {\n",
              "        text-align: right;\n",
              "    }\n",
              "</style>\n",
              "<table border=\"1\" class=\"dataframe\">\n",
              "  <thead>\n",
              "    <tr style=\"text-align: right;\">\n",
              "      <th></th>\n",
              "      <th>0</th>\n",
              "    </tr>\n",
              "  </thead>\n",
              "  <tbody>\n",
              "    <tr>\n",
              "      <th>Id</th>\n",
              "      <td>0</td>\n",
              "    </tr>\n",
              "    <tr>\n",
              "      <th>SepalLengthCm</th>\n",
              "      <td>0</td>\n",
              "    </tr>\n",
              "    <tr>\n",
              "      <th>SepalWidthCm</th>\n",
              "      <td>0</td>\n",
              "    </tr>\n",
              "    <tr>\n",
              "      <th>PetalLengthCm</th>\n",
              "      <td>0</td>\n",
              "    </tr>\n",
              "    <tr>\n",
              "      <th>PetalWidthCm</th>\n",
              "      <td>0</td>\n",
              "    </tr>\n",
              "    <tr>\n",
              "      <th>Species</th>\n",
              "      <td>0</td>\n",
              "    </tr>\n",
              "  </tbody>\n",
              "</table>\n",
              "</div><br><label><b>dtype:</b> int64</label>"
            ],
            "text/plain": [
              "Id               0\n",
              "SepalLengthCm    0\n",
              "SepalWidthCm     0\n",
              "PetalLengthCm    0\n",
              "PetalWidthCm     0\n",
              "Species          0\n",
              "dtype: int64"
            ]
          },
          "execution_count": 4,
          "metadata": {},
          "output_type": "execute_result"
        }
      ],
      "source": [
        "df.isnull().sum()"
      ]
    },
    {
      "cell_type": "code",
      "execution_count": null,
      "metadata": {
        "colab": {
          "base_uri": "https://localhost:8080/"
        },
        "id": "OgsWw88kEkrP",
        "outputId": "3d5e4f59-998d-4ae6-a6cd-d590791c1f40"
      },
      "outputs": [
        {
          "data": {
            "text/plain": [
              "0"
            ]
          },
          "execution_count": 5,
          "metadata": {},
          "output_type": "execute_result"
        }
      ],
      "source": [
        "\n",
        "df.duplicated().sum()"
      ]
    },
    {
      "cell_type": "markdown",
      "metadata": {
        "id": "gz5lxkraEHnF"
      },
      "source": [
        "## Step 4\n",
        "### 4.1. Why do we need to encode the labels?\n"
      ]
    },
    {
      "cell_type": "markdown",
      "metadata": {
        "id": "QxXGkS97r-_e"
      },
      "source": [
        "We encode labels to convert categorical values (like text) into numerical format, which is required for most machine learning algorithms."
      ]
    },
    {
      "cell_type": "markdown",
      "metadata": {
        "id": "a1KTyEQptKv6"
      },
      "source": [
        "### 4.2. What exactly the `LabelEncoder` is doing in the following cell?"
      ]
    },
    {
      "cell_type": "markdown",
      "metadata": {
        "id": "sMIOZQ0Pr_rg"
      },
      "source": [
        "The LabelEncoder assigns a unique integer to each category in the Species column. Specifically, le.fit_transform(df['Species']) replaces each category with its corresponding integer, while le.classes_ retrieves the original category names for reference. This ensures the data is machine-readable while retaining the mapping to the original labels."
      ]
    },
    {
      "cell_type": "code",
      "execution_count": null,
      "metadata": {
        "colab": {
          "base_uri": "https://localhost:8080/"
        },
        "id": "3m2bBXj6EGug",
        "outputId": "b63c00d1-874f-4abe-c95b-7dbc891b9727"
      },
      "outputs": [
        {
          "name": "stdout",
          "output_type": "stream",
          "text": [
            "['Iris-setosa' 'Iris-versicolor' 'Iris-virginica']\n"
          ]
        }
      ],
      "source": [
        "\n",
        "le = LabelEncoder()\n",
        "df['Species'] = le.fit_transform(df['Species'])\n",
        "df.head()\n",
        "species_name = le.classes_\n",
        "print(species_name)"
      ]
    },
    {
      "cell_type": "markdown",
      "metadata": {
        "id": "AJroUGOTF3N1"
      },
      "source": [
        "## Step 5\n",
        "### 5.1 What are `X` and `y` with respect to `df`?\n"
      ]
    },
    {
      "cell_type": "markdown",
      "metadata": {
        "id": "DDh6bmNjsAt-"
      },
      "source": [
        "With respect to df, X represents the feature set, which includes all the input variables needed for the model (in this case, all columns except Id and Species). y represents the target variable, typically extracted as y = df['Species'], which contains the labels or outputs the model aims to predict."
      ]
    },
    {
      "cell_type": "markdown",
      "metadata": {
        "id": "yf-sQdjjtDGg"
      },
      "source": [
        "### 5.2 Why we extracted `X` and `y`?"
      ]
    },
    {
      "cell_type": "markdown",
      "metadata": {
        "id": "ctidlFFIsBrO"
      },
      "source": [
        "We extract X and y to separate the independent variables (features) from the dependent variable (target), which is essential for training machine learning models. This distinction ensures the model learns from the features (X) to accurately predict the target (y)."
      ]
    },
    {
      "cell_type": "code",
      "execution_count": null,
      "metadata": {
        "colab": {
          "base_uri": "https://localhost:8080/",
          "height": 206
        },
        "id": "tKugpQQKFgR_",
        "outputId": "8cf51a6e-6085-4af8-ccbe-00eed931d66d"
      },
      "outputs": [
        {
          "data": {
            "application/vnd.google.colaboratory.intrinsic+json": {
              "summary": "{\n  \"name\": \"X\",\n  \"rows\": 150,\n  \"fields\": [\n    {\n      \"column\": \"SepalLengthCm\",\n      \"properties\": {\n        \"dtype\": \"number\",\n        \"std\": 0.8280661279778629,\n        \"min\": 4.3,\n        \"max\": 7.9,\n        \"num_unique_values\": 35,\n        \"samples\": [\n          6.2,\n          4.5,\n          5.6\n        ],\n        \"semantic_type\": \"\",\n        \"description\": \"\"\n      }\n    },\n    {\n      \"column\": \"SepalWidthCm\",\n      \"properties\": {\n        \"dtype\": \"number\",\n        \"std\": 0.4335943113621737,\n        \"min\": 2.0,\n        \"max\": 4.4,\n        \"num_unique_values\": 23,\n        \"samples\": [\n          2.3,\n          4.0,\n          3.5\n        ],\n        \"semantic_type\": \"\",\n        \"description\": \"\"\n      }\n    },\n    {\n      \"column\": \"PetalLengthCm\",\n      \"properties\": {\n        \"dtype\": \"number\",\n        \"std\": 1.7644204199522617,\n        \"min\": 1.0,\n        \"max\": 6.9,\n        \"num_unique_values\": 43,\n        \"samples\": [\n          6.7,\n          3.8,\n          3.7\n        ],\n        \"semantic_type\": \"\",\n        \"description\": \"\"\n      }\n    },\n    {\n      \"column\": \"PetalWidthCm\",\n      \"properties\": {\n        \"dtype\": \"number\",\n        \"std\": 0.7631607417008414,\n        \"min\": 0.1,\n        \"max\": 2.5,\n        \"num_unique_values\": 22,\n        \"samples\": [\n          0.2,\n          1.2,\n          1.3\n        ],\n        \"semantic_type\": \"\",\n        \"description\": \"\"\n      }\n    }\n  ]\n}",
              "type": "dataframe",
              "variable_name": "X"
            },
            "text/html": [
              "\n",
              "  <div id=\"df-e8ebd061-9137-49aa-9357-9d98da3a0467\" class=\"colab-df-container\">\n",
              "    <div>\n",
              "<style scoped>\n",
              "    .dataframe tbody tr th:only-of-type {\n",
              "        vertical-align: middle;\n",
              "    }\n",
              "\n",
              "    .dataframe tbody tr th {\n",
              "        vertical-align: top;\n",
              "    }\n",
              "\n",
              "    .dataframe thead th {\n",
              "        text-align: right;\n",
              "    }\n",
              "</style>\n",
              "<table border=\"1\" class=\"dataframe\">\n",
              "  <thead>\n",
              "    <tr style=\"text-align: right;\">\n",
              "      <th></th>\n",
              "      <th>SepalLengthCm</th>\n",
              "      <th>SepalWidthCm</th>\n",
              "      <th>PetalLengthCm</th>\n",
              "      <th>PetalWidthCm</th>\n",
              "    </tr>\n",
              "  </thead>\n",
              "  <tbody>\n",
              "    <tr>\n",
              "      <th>0</th>\n",
              "      <td>5.1</td>\n",
              "      <td>3.5</td>\n",
              "      <td>1.4</td>\n",
              "      <td>0.2</td>\n",
              "    </tr>\n",
              "    <tr>\n",
              "      <th>1</th>\n",
              "      <td>4.9</td>\n",
              "      <td>3.0</td>\n",
              "      <td>1.4</td>\n",
              "      <td>0.2</td>\n",
              "    </tr>\n",
              "    <tr>\n",
              "      <th>2</th>\n",
              "      <td>4.7</td>\n",
              "      <td>3.2</td>\n",
              "      <td>1.3</td>\n",
              "      <td>0.2</td>\n",
              "    </tr>\n",
              "    <tr>\n",
              "      <th>3</th>\n",
              "      <td>4.6</td>\n",
              "      <td>3.1</td>\n",
              "      <td>1.5</td>\n",
              "      <td>0.2</td>\n",
              "    </tr>\n",
              "    <tr>\n",
              "      <th>4</th>\n",
              "      <td>5.0</td>\n",
              "      <td>3.6</td>\n",
              "      <td>1.4</td>\n",
              "      <td>0.2</td>\n",
              "    </tr>\n",
              "  </tbody>\n",
              "</table>\n",
              "</div>\n",
              "    <div class=\"colab-df-buttons\">\n",
              "\n",
              "  <div class=\"colab-df-container\">\n",
              "    <button class=\"colab-df-convert\" onclick=\"convertToInteractive('df-e8ebd061-9137-49aa-9357-9d98da3a0467')\"\n",
              "            title=\"Convert this dataframe to an interactive table.\"\n",
              "            style=\"display:none;\">\n",
              "\n",
              "  <svg xmlns=\"http://www.w3.org/2000/svg\" height=\"24px\" viewBox=\"0 -960 960 960\">\n",
              "    <path d=\"M120-120v-720h720v720H120Zm60-500h600v-160H180v160Zm220 220h160v-160H400v160Zm0 220h160v-160H400v160ZM180-400h160v-160H180v160Zm440 0h160v-160H620v160ZM180-180h160v-160H180v160Zm440 0h160v-160H620v160Z\"/>\n",
              "  </svg>\n",
              "    </button>\n",
              "\n",
              "  <style>\n",
              "    .colab-df-container {\n",
              "      display:flex;\n",
              "      gap: 12px;\n",
              "    }\n",
              "\n",
              "    .colab-df-convert {\n",
              "      background-color: #E8F0FE;\n",
              "      border: none;\n",
              "      border-radius: 50%;\n",
              "      cursor: pointer;\n",
              "      display: none;\n",
              "      fill: #1967D2;\n",
              "      height: 32px;\n",
              "      padding: 0 0 0 0;\n",
              "      width: 32px;\n",
              "    }\n",
              "\n",
              "    .colab-df-convert:hover {\n",
              "      background-color: #E2EBFA;\n",
              "      box-shadow: 0px 1px 2px rgba(60, 64, 67, 0.3), 0px 1px 3px 1px rgba(60, 64, 67, 0.15);\n",
              "      fill: #174EA6;\n",
              "    }\n",
              "\n",
              "    .colab-df-buttons div {\n",
              "      margin-bottom: 4px;\n",
              "    }\n",
              "\n",
              "    [theme=dark] .colab-df-convert {\n",
              "      background-color: #3B4455;\n",
              "      fill: #D2E3FC;\n",
              "    }\n",
              "\n",
              "    [theme=dark] .colab-df-convert:hover {\n",
              "      background-color: #434B5C;\n",
              "      box-shadow: 0px 1px 3px 1px rgba(0, 0, 0, 0.15);\n",
              "      filter: drop-shadow(0px 1px 2px rgba(0, 0, 0, 0.3));\n",
              "      fill: #FFFFFF;\n",
              "    }\n",
              "  </style>\n",
              "\n",
              "    <script>\n",
              "      const buttonEl =\n",
              "        document.querySelector('#df-e8ebd061-9137-49aa-9357-9d98da3a0467 button.colab-df-convert');\n",
              "      buttonEl.style.display =\n",
              "        google.colab.kernel.accessAllowed ? 'block' : 'none';\n",
              "\n",
              "      async function convertToInteractive(key) {\n",
              "        const element = document.querySelector('#df-e8ebd061-9137-49aa-9357-9d98da3a0467');\n",
              "        const dataTable =\n",
              "          await google.colab.kernel.invokeFunction('convertToInteractive',\n",
              "                                                    [key], {});\n",
              "        if (!dataTable) return;\n",
              "\n",
              "        const docLinkHtml = 'Like what you see? Visit the ' +\n",
              "          '<a target=\"_blank\" href=https://colab.research.google.com/notebooks/data_table.ipynb>data table notebook</a>'\n",
              "          + ' to learn more about interactive tables.';\n",
              "        element.innerHTML = '';\n",
              "        dataTable['output_type'] = 'display_data';\n",
              "        await google.colab.output.renderOutput(dataTable, element);\n",
              "        const docLink = document.createElement('div');\n",
              "        docLink.innerHTML = docLinkHtml;\n",
              "        element.appendChild(docLink);\n",
              "      }\n",
              "    </script>\n",
              "  </div>\n",
              "\n",
              "\n",
              "<div id=\"df-cc45e225-eeec-4e52-a686-08fa5b6869d0\">\n",
              "  <button class=\"colab-df-quickchart\" onclick=\"quickchart('df-cc45e225-eeec-4e52-a686-08fa5b6869d0')\"\n",
              "            title=\"Suggest charts\"\n",
              "            style=\"display:none;\">\n",
              "\n",
              "<svg xmlns=\"http://www.w3.org/2000/svg\" height=\"24px\"viewBox=\"0 0 24 24\"\n",
              "     width=\"24px\">\n",
              "    <g>\n",
              "        <path d=\"M19 3H5c-1.1 0-2 .9-2 2v14c0 1.1.9 2 2 2h14c1.1 0 2-.9 2-2V5c0-1.1-.9-2-2-2zM9 17H7v-7h2v7zm4 0h-2V7h2v10zm4 0h-2v-4h2v4z\"/>\n",
              "    </g>\n",
              "</svg>\n",
              "  </button>\n",
              "\n",
              "<style>\n",
              "  .colab-df-quickchart {\n",
              "      --bg-color: #E8F0FE;\n",
              "      --fill-color: #1967D2;\n",
              "      --hover-bg-color: #E2EBFA;\n",
              "      --hover-fill-color: #174EA6;\n",
              "      --disabled-fill-color: #AAA;\n",
              "      --disabled-bg-color: #DDD;\n",
              "  }\n",
              "\n",
              "  [theme=dark] .colab-df-quickchart {\n",
              "      --bg-color: #3B4455;\n",
              "      --fill-color: #D2E3FC;\n",
              "      --hover-bg-color: #434B5C;\n",
              "      --hover-fill-color: #FFFFFF;\n",
              "      --disabled-bg-color: #3B4455;\n",
              "      --disabled-fill-color: #666;\n",
              "  }\n",
              "\n",
              "  .colab-df-quickchart {\n",
              "    background-color: var(--bg-color);\n",
              "    border: none;\n",
              "    border-radius: 50%;\n",
              "    cursor: pointer;\n",
              "    display: none;\n",
              "    fill: var(--fill-color);\n",
              "    height: 32px;\n",
              "    padding: 0;\n",
              "    width: 32px;\n",
              "  }\n",
              "\n",
              "  .colab-df-quickchart:hover {\n",
              "    background-color: var(--hover-bg-color);\n",
              "    box-shadow: 0 1px 2px rgba(60, 64, 67, 0.3), 0 1px 3px 1px rgba(60, 64, 67, 0.15);\n",
              "    fill: var(--button-hover-fill-color);\n",
              "  }\n",
              "\n",
              "  .colab-df-quickchart-complete:disabled,\n",
              "  .colab-df-quickchart-complete:disabled:hover {\n",
              "    background-color: var(--disabled-bg-color);\n",
              "    fill: var(--disabled-fill-color);\n",
              "    box-shadow: none;\n",
              "  }\n",
              "\n",
              "  .colab-df-spinner {\n",
              "    border: 2px solid var(--fill-color);\n",
              "    border-color: transparent;\n",
              "    border-bottom-color: var(--fill-color);\n",
              "    animation:\n",
              "      spin 1s steps(1) infinite;\n",
              "  }\n",
              "\n",
              "  @keyframes spin {\n",
              "    0% {\n",
              "      border-color: transparent;\n",
              "      border-bottom-color: var(--fill-color);\n",
              "      border-left-color: var(--fill-color);\n",
              "    }\n",
              "    20% {\n",
              "      border-color: transparent;\n",
              "      border-left-color: var(--fill-color);\n",
              "      border-top-color: var(--fill-color);\n",
              "    }\n",
              "    30% {\n",
              "      border-color: transparent;\n",
              "      border-left-color: var(--fill-color);\n",
              "      border-top-color: var(--fill-color);\n",
              "      border-right-color: var(--fill-color);\n",
              "    }\n",
              "    40% {\n",
              "      border-color: transparent;\n",
              "      border-right-color: var(--fill-color);\n",
              "      border-top-color: var(--fill-color);\n",
              "    }\n",
              "    60% {\n",
              "      border-color: transparent;\n",
              "      border-right-color: var(--fill-color);\n",
              "    }\n",
              "    80% {\n",
              "      border-color: transparent;\n",
              "      border-right-color: var(--fill-color);\n",
              "      border-bottom-color: var(--fill-color);\n",
              "    }\n",
              "    90% {\n",
              "      border-color: transparent;\n",
              "      border-bottom-color: var(--fill-color);\n",
              "    }\n",
              "  }\n",
              "</style>\n",
              "\n",
              "  <script>\n",
              "    async function quickchart(key) {\n",
              "      const quickchartButtonEl =\n",
              "        document.querySelector('#' + key + ' button');\n",
              "      quickchartButtonEl.disabled = true;  // To prevent multiple clicks.\n",
              "      quickchartButtonEl.classList.add('colab-df-spinner');\n",
              "      try {\n",
              "        const charts = await google.colab.kernel.invokeFunction(\n",
              "            'suggestCharts', [key], {});\n",
              "      } catch (error) {\n",
              "        console.error('Error during call to suggestCharts:', error);\n",
              "      }\n",
              "      quickchartButtonEl.classList.remove('colab-df-spinner');\n",
              "      quickchartButtonEl.classList.add('colab-df-quickchart-complete');\n",
              "    }\n",
              "    (() => {\n",
              "      let quickchartButtonEl =\n",
              "        document.querySelector('#df-cc45e225-eeec-4e52-a686-08fa5b6869d0 button');\n",
              "      quickchartButtonEl.style.display =\n",
              "        google.colab.kernel.accessAllowed ? 'block' : 'none';\n",
              "    })();\n",
              "  </script>\n",
              "</div>\n",
              "\n",
              "    </div>\n",
              "  </div>\n"
            ],
            "text/plain": [
              "   SepalLengthCm  SepalWidthCm  PetalLengthCm  PetalWidthCm\n",
              "0            5.1           3.5            1.4           0.2\n",
              "1            4.9           3.0            1.4           0.2\n",
              "2            4.7           3.2            1.3           0.2\n",
              "3            4.6           3.1            1.5           0.2\n",
              "4            5.0           3.6            1.4           0.2"
            ]
          },
          "execution_count": 7,
          "metadata": {},
          "output_type": "execute_result"
        }
      ],
      "source": [
        "X = df.drop(columns=['Id','Species'])\n",
        "X.head()"
      ]
    },
    {
      "cell_type": "code",
      "execution_count": null,
      "metadata": {
        "colab": {
          "base_uri": "https://localhost:8080/",
          "height": 241
        },
        "id": "aGAMRtXRFlqO",
        "outputId": "525f4431-63d5-4f18-ae65-e18602b11edd"
      },
      "outputs": [
        {
          "data": {
            "text/html": [
              "<div>\n",
              "<style scoped>\n",
              "    .dataframe tbody tr th:only-of-type {\n",
              "        vertical-align: middle;\n",
              "    }\n",
              "\n",
              "    .dataframe tbody tr th {\n",
              "        vertical-align: top;\n",
              "    }\n",
              "\n",
              "    .dataframe thead th {\n",
              "        text-align: right;\n",
              "    }\n",
              "</style>\n",
              "<table border=\"1\" class=\"dataframe\">\n",
              "  <thead>\n",
              "    <tr style=\"text-align: right;\">\n",
              "      <th></th>\n",
              "      <th>Species</th>\n",
              "    </tr>\n",
              "  </thead>\n",
              "  <tbody>\n",
              "    <tr>\n",
              "      <th>0</th>\n",
              "      <td>0</td>\n",
              "    </tr>\n",
              "    <tr>\n",
              "      <th>1</th>\n",
              "      <td>0</td>\n",
              "    </tr>\n",
              "    <tr>\n",
              "      <th>2</th>\n",
              "      <td>0</td>\n",
              "    </tr>\n",
              "    <tr>\n",
              "      <th>3</th>\n",
              "      <td>0</td>\n",
              "    </tr>\n",
              "    <tr>\n",
              "      <th>4</th>\n",
              "      <td>0</td>\n",
              "    </tr>\n",
              "  </tbody>\n",
              "</table>\n",
              "</div><br><label><b>dtype:</b> int64</label>"
            ],
            "text/plain": [
              "0    0\n",
              "1    0\n",
              "2    0\n",
              "3    0\n",
              "4    0\n",
              "Name: Species, dtype: int64"
            ]
          },
          "execution_count": 8,
          "metadata": {},
          "output_type": "execute_result"
        }
      ],
      "source": [
        "y = df['Species']\n",
        "y.head()"
      ]
    },
    {
      "cell_type": "code",
      "execution_count": null,
      "metadata": {
        "colab": {
          "base_uri": "https://localhost:8080/",
          "height": 209
        },
        "id": "2Tw05maHFnFP",
        "outputId": "091afe3c-2144-485e-a1a8-c2735bc9a8d1"
      },
      "outputs": [
        {
          "data": {
            "text/html": [
              "<div>\n",
              "<style scoped>\n",
              "    .dataframe tbody tr th:only-of-type {\n",
              "        vertical-align: middle;\n",
              "    }\n",
              "\n",
              "    .dataframe tbody tr th {\n",
              "        vertical-align: top;\n",
              "    }\n",
              "\n",
              "    .dataframe thead th {\n",
              "        text-align: right;\n",
              "    }\n",
              "</style>\n",
              "<table border=\"1\" class=\"dataframe\">\n",
              "  <thead>\n",
              "    <tr style=\"text-align: right;\">\n",
              "      <th></th>\n",
              "      <th>count</th>\n",
              "    </tr>\n",
              "    <tr>\n",
              "      <th>Species</th>\n",
              "      <th></th>\n",
              "    </tr>\n",
              "  </thead>\n",
              "  <tbody>\n",
              "    <tr>\n",
              "      <th>0</th>\n",
              "      <td>50</td>\n",
              "    </tr>\n",
              "    <tr>\n",
              "      <th>1</th>\n",
              "      <td>50</td>\n",
              "    </tr>\n",
              "    <tr>\n",
              "      <th>2</th>\n",
              "      <td>50</td>\n",
              "    </tr>\n",
              "  </tbody>\n",
              "</table>\n",
              "</div><br><label><b>dtype:</b> int64</label>"
            ],
            "text/plain": [
              "Species\n",
              "0    50\n",
              "1    50\n",
              "2    50\n",
              "Name: count, dtype: int64"
            ]
          },
          "execution_count": 9,
          "metadata": {},
          "output_type": "execute_result"
        }
      ],
      "source": [
        "y.value_counts()"
      ]
    },
    {
      "cell_type": "markdown",
      "metadata": {
        "id": "ANtN0z0hGPbl"
      },
      "source": [
        "## Step 6\n",
        "### 6.1 Why do we split?\n"
      ]
    },
    {
      "cell_type": "markdown",
      "metadata": {
        "id": "4uaG-rxLsC-W"
      },
      "source": [
        "We split the dataset into training and testing sets to evaluate the model's performance. The training set is used to train the model, while the testing set assesses how well the model generalizes to unseen data."
      ]
    },
    {
      "cell_type": "markdown",
      "metadata": {
        "id": "EKCaCTlGs52I"
      },
      "source": [
        "### 6.2 What is the significance of `0.25`?\n"
      ]
    },
    {
      "cell_type": "markdown",
      "metadata": {
        "id": "p2X_BmHzsD3G"
      },
      "source": [
        "The test_size=0.25 specifies that 25% of the data is allocated for testing, and the remaining 75% is used for training. This ensures a balanced split for training and evaluation, but the exact ratio depends on the dataset size and problem context."
      ]
    },
    {
      "cell_type": "markdown",
      "metadata": {
        "id": "_HKOOQDPs8mR"
      },
      "source": [
        "### 6.3 Can I choose that value greater than `0.5`?\n"
      ]
    },
    {
      "cell_type": "markdown",
      "metadata": {
        "id": "3iywKx98sEc-"
      },
      "source": [
        "Yes, you can, but it is generally not recommended unless the dataset is very large. A value greater than 0.5 would mean more data is reserved for testing, leaving less for training, which could result in an under-trained model."
      ]
    },
    {
      "cell_type": "markdown",
      "metadata": {
        "id": "b2M0JLacs-yx"
      },
      "source": [
        "### 6.4 What is the significance of `random_state=7`?"
      ]
    },
    {
      "cell_type": "markdown",
      "metadata": {
        "id": "FVV8hCdPsFTO"
      },
      "source": [
        "The random_state ensures reproducibility of the split. By setting it to 7, the same random split will occur every time the code is run, which is important for consistent results during development and debugging."
      ]
    },
    {
      "cell_type": "code",
      "execution_count": null,
      "metadata": {
        "colab": {
          "base_uri": "https://localhost:8080/"
        },
        "id": "cL7ki9h8FqNX",
        "outputId": "a0c3f824-df01-40ca-a915-796ad527dcc2"
      },
      "outputs": [
        {
          "data": {
            "text/plain": [
              "(112, 4)"
            ]
          },
          "execution_count": 10,
          "metadata": {},
          "output_type": "execute_result"
        }
      ],
      "source": [
        "X_train,X_test,y_train,y_test = train_test_split(X,y,test_size=0.25,shuffle=True,random_state=7)\n",
        "X_train.shape"
      ]
    },
    {
      "cell_type": "code",
      "execution_count": null,
      "metadata": {
        "colab": {
          "base_uri": "https://localhost:8080/"
        },
        "id": "VZBwHdWCFrz3",
        "outputId": "6d530933-a843-474f-f9b7-e2cfc6bcef06"
      },
      "outputs": [
        {
          "data": {
            "text/plain": [
              "(150, 6)"
            ]
          },
          "execution_count": 11,
          "metadata": {},
          "output_type": "execute_result"
        }
      ],
      "source": [
        "df.shape"
      ]
    },
    {
      "cell_type": "markdown",
      "metadata": {
        "id": "GeqGFFfCHSk9"
      },
      "source": [
        "## Step 7\n",
        "### 7.1 What exactly we are doing in the following two cells?\n"
      ]
    },
    {
      "cell_type": "markdown",
      "metadata": {
        "id": "5a9YChjFsGge"
      },
      "source": [
        "In the two cells:\n",
        "\n",
        "StandardScaler for X_train and X_test:\n",
        "The StandardScaler is used to scale the feature values of X_train and X_test to have a mean of 0 and a standard deviation of 1. This is done to standardize the input features, which improves the performance and stability of many machine learning algorithms, especially those sensitive to feature scaling (like neural networks).\n",
        "sc.fit_transform(X_train) computes the mean and standard deviation from X_train and scales it accordingly.\n",
        "sc.transform(X_test) applies the same scaling (using X_train's mean and standard deviation) to X_test.\n",
        "\n",
        "One-Hot Encoding for y_train:\n",
        "The y_train labels are converted into one-hot encoded vectors using tf.keras.utils.to_categorical. This transforms the integer labels of y_train (e.g., 0, 1, 2 for three species) into binary vectors where each label is represented by a vector with a 1 at the position corresponding to the class and 0 elsewhere. This encoding is required for multi-class classification in neural networks."
      ]
    },
    {
      "cell_type": "markdown",
      "metadata": {
        "id": "p8I3VGu4s0kn"
      },
      "source": [
        "### 7.2 Why `X` and `y` were treated differently? What is the purpose of doing like that?"
      ]
    },
    {
      "cell_type": "markdown",
      "metadata": {
        "id": "QhwAvQDvsHGe"
      },
      "source": [
        "X (features) is standardized to bring all the input variables to a similar scale, which is crucial for most machine learning models to function properly.\n",
        "y (labels) is one-hot encoded because the neural network needs the target variable to be in a format where each category is represented as a separate binary vector. This is necessary for multi-class classification tasks."
      ]
    },
    {
      "cell_type": "code",
      "execution_count": null,
      "metadata": {
        "colab": {
          "base_uri": "https://localhost:8080/"
        },
        "id": "ZLLWRLlCFylU",
        "outputId": "4c6506db-c96a-410a-e228-eb54c692bf5a"
      },
      "outputs": [
        {
          "data": {
            "text/plain": [
              "array([[-0.87222549,  1.03373066, -1.29757475, -1.14224315],\n",
              "       [ 1.47325482, -0.11714244,  1.21000835,  1.18377926],\n",
              "       [ 1.00415875,  0.57338142,  1.09856022,  1.18377926],\n",
              "       [ 1.12143277, -0.57749168,  0.5970436 ,  0.27921499],\n",
              "       [ 0.65233671, -0.57749168,  1.04283615,  1.31300273]])"
            ]
          },
          "execution_count": 12,
          "metadata": {},
          "output_type": "execute_result"
        }
      ],
      "source": [
        "sc = StandardScaler()\n",
        "X_train = sc.fit_transform(X_train)\n",
        "X_test = sc.transform(X_test)\n",
        "X_train[:5]"
      ]
    },
    {
      "cell_type": "code",
      "execution_count": null,
      "metadata": {
        "colab": {
          "base_uri": "https://localhost:8080/"
        },
        "id": "uQLkZos0F0TY",
        "outputId": "030cc9d2-5af0-4187-e86c-86870458af48"
      },
      "outputs": [
        {
          "data": {
            "text/plain": [
              "array([[1., 0., 0.],\n",
              "       [0., 0., 1.],\n",
              "       [0., 0., 1.],\n",
              "       [0., 1., 0.],\n",
              "       [0., 0., 1.]])"
            ]
          },
          "execution_count": 13,
          "metadata": {},
          "output_type": "execute_result"
        }
      ],
      "source": [
        "y_train = tf.keras.utils.to_categorical(y_train,num_classes=3)\n",
        "y_train[:5]"
      ]
    },
    {
      "cell_type": "markdown",
      "metadata": {
        "id": "XgmUftAsIbtV"
      },
      "source": [
        "## Step 8\n",
        "### 8.1 What is `Sequential`?\n"
      ]
    },
    {
      "cell_type": "markdown",
      "metadata": {
        "id": "O_DK6D9PsJXn"
      },
      "source": [
        "Sequential is a linear stack of layers in Keras, where you can add layers one by one in a sequential manner. Each layer has weights that correspond to the layer before it, and the model is built in a simple, step-by-step way. This is ideal for models where each layer has exactly one input and one output."
      ]
    },
    {
      "cell_type": "markdown",
      "metadata": {
        "id": "P88B3klXsuzX"
      },
      "source": [
        "### 8.2 Are there any alternative to `Sequential` way to build the model?\n"
      ]
    },
    {
      "cell_type": "markdown",
      "metadata": {
        "id": "U3lnxBCxsKFY"
      },
      "source": [
        "Yes, an alternative is using the Functional API in Keras. This allows for more complex models, such as models with multiple inputs/outputs, shared layers, or non-linear connections. Using the Functional API, you define the model by specifying how the layers are connected (rather than stacking them sequentially)."
      ]
    },
    {
      "cell_type": "markdown",
      "metadata": {
        "id": "WaBnOMcpswqn"
      },
      "source": [
        "### 8.3 Identify the layer wise details of the model that it creates."
      ]
    },
    {
      "cell_type": "markdown",
      "metadata": {
        "id": "mnM6UXUDsLiP"
      },
      "source": [
        "First Layer (Dense):\n",
        "\n",
        "Units: 32 neurons.\n",
        "Input Shape: (4,) (indicating 4 input features).\n",
        "Activation Function: ReLU (Rectified Linear Unit) is used for non-linearity.\n",
        "Second Layer (Dense):\n",
        "\n",
        "Units: 32 neurons.\n",
        "Activation Function: ReLU.\n",
        "Third Layer (Dropout):\n",
        "\n",
        "Dropout Rate: 0.5 (50% of the neurons will be randomly \"dropped out\" during training to prevent overfitting).\n",
        "Fourth Layer (Dense):\n",
        "\n",
        "Units: 3 neurons (corresponding to the 3 classes for classification).\n",
        "Activation Function: Softmax (used for multi-class classification, where the output is a probability distribution across 3 classes).\n",
        "\n",
        "This model is built for multi-class classification, with the final layer outputting a probability distribution across three classes."
      ]
    },
    {
      "cell_type": "code",
      "execution_count": null,
      "metadata": {
        "id": "dVvzu8TfHrkG"
      },
      "outputs": [],
      "source": [
        "def get_models():\n",
        "    model = Sequential([\n",
        "        Dense(units=32,input_shape=(4,),activation='relu'),\n",
        "        Dense(units=32,activation='relu'),\n",
        "        Dropout(0.5),\n",
        "        Dense(units=3,activation='softmax')\n",
        "    ])\n",
        "\n",
        "    return model"
      ]
    },
    {
      "cell_type": "markdown",
      "metadata": {
        "id": "zCIvX6mAI_UM"
      },
      "source": [
        "## Step 9\n",
        "### 9.1 What other compiler options we do have?\n"
      ]
    },
    {
      "cell_type": "markdown",
      "metadata": {
        "id": "h1GZcLW5sPOX"
      },
      "source": [
        "When compiling a Keras model, you can specify different options for the optimizer, loss function, and evaluation metrics. Here are some common alternatives:\n",
        "\n",
        "Optimizers:\n",
        "SGD (Stochastic Gradient Descent),\n",
        "RMSprop,\n",
        "Adagrad,\n",
        "Adadelta,\n",
        "Nadam.\n",
        "\n",
        "Loss Functions:\n",
        "binary_crossentropy (for binary classification),\n",
        "sparse_categorical_crossentropy (for integer-labeled multi-class classification),\n",
        "mean_squared_error (for regression problems).\n",
        "\n",
        "Metrics:\n",
        "precision\n",
        ",recall\n",
        ",AUC (Area Under the Curve)\n",
        ",f1_score.\n",
        "\n",
        "The choice of optimizer, loss function, and metrics depends on the specific problem you're solving (e.g., classification vs. regression) and the nature of your data."
      ]
    },
    {
      "cell_type": "markdown",
      "metadata": {
        "id": "AvX1voZgsisZ"
      },
      "source": [
        "### 9.2 How the `model.summary()` method helps us in understanding the architecture?\n"
      ]
    },
    {
      "cell_type": "markdown",
      "metadata": {
        "id": "apApK7RFsQ5u"
      },
      "source": [
        "The model.summary() method provides a detailed summary of the model's architecture. It gives us an overview of the layers, their configurations, and the number of parameters at each layer. This is crucial for understanding how the model is structured and how the data flows through the network."
      ]
    },
    {
      "cell_type": "markdown",
      "metadata": {
        "id": "OOKu1AhMsk6n"
      },
      "source": [
        "### 9.3 What details it is providing in the following cell?\n"
      ]
    },
    {
      "cell_type": "markdown",
      "metadata": {
        "id": "wi4NRNGtsSBe"
      },
      "source": [
        "Layer Name: The name of each layer in the model (e.g., Dense, Dropout).\n",
        "Output Shape: The shape of the output tensor at each layer.\n",
        "Number of Parameters: The total number of parameters in each layer, which includes both the weights and biases.\n",
        "Total Parameters: The total number of parameters in the entire model, including trainable and non-trainable parameters.\n",
        "\n",
        "In the given model, it will show the details for the 4 layers (Dense, Dropout, Dense, Dense) and the number of parameters for each.\n",
        "\n"
      ]
    },
    {
      "cell_type": "markdown",
      "metadata": {
        "id": "MtfvIl7Asmy-"
      },
      "source": [
        "### 9.4 What other details it can provide for us?"
      ]
    },
    {
      "cell_type": "markdown",
      "metadata": {
        "id": "Dl-qzhOUsQSQ"
      },
      "source": [
        "Trainable Parameters: The number of parameters that will be updated during training.\n",
        "\n",
        "Non-trainable Parameters: The parameters that are fixed and not updated during training (e.g., if the layer uses pre-trained weights).\n",
        "\n",
        "Layer Types: It lists all layers, including their type (Dense, Dropout, etc.), which helps understand the structure.\n",
        "\n",
        "Shape Transformations: For each layer, the input and output shapes are shown, helping to visualize how the data flows through the model.\n",
        "\n",
        "Memory Usage: Depending on the framework and hardware, it can also show an estimate of memory usage by each layer."
      ]
    },
    {
      "cell_type": "code",
      "execution_count": null,
      "metadata": {
        "colab": {
          "base_uri": "https://localhost:8080/",
          "height": 312
        },
        "id": "6T3q7GtiHu2f",
        "outputId": "8bce78f4-a19f-4420-9c06-da2e771ef39b"
      },
      "outputs": [
        {
          "name": "stderr",
          "output_type": "stream",
          "text": [
            "/usr/local/lib/python3.11/dist-packages/keras/src/layers/core/dense.py:87: UserWarning: Do not pass an `input_shape`/`input_dim` argument to a layer. When using Sequential models, prefer using an `Input(shape)` object as the first layer in the model instead.\n",
            "  super().__init__(activity_regularizer=activity_regularizer, **kwargs)\n"
          ]
        },
        {
          "data": {
            "text/html": [
              "<pre style=\"white-space:pre;overflow-x:auto;line-height:normal;font-family:Menlo,'DejaVu Sans Mono',consolas,'Courier New',monospace\"><span style=\"font-weight: bold\">Model: \"sequential\"</span>\n",
              "</pre>\n"
            ],
            "text/plain": [
              "\u001b[1mModel: \"sequential\"\u001b[0m\n"
            ]
          },
          "metadata": {},
          "output_type": "display_data"
        },
        {
          "data": {
            "text/html": [
              "<pre style=\"white-space:pre;overflow-x:auto;line-height:normal;font-family:Menlo,'DejaVu Sans Mono',consolas,'Courier New',monospace\">┏━━━━━━━━━━━━━━━━━━━━━━━━━━━━━━━━━━━━━━┳━━━━━━━━━━━━━━━━━━━━━━━━━━━━━┳━━━━━━━━━━━━━━━━━┓\n",
              "┃<span style=\"font-weight: bold\"> Layer (type)                         </span>┃<span style=\"font-weight: bold\"> Output Shape                </span>┃<span style=\"font-weight: bold\">         Param # </span>┃\n",
              "┡━━━━━━━━━━━━━━━━━━━━━━━━━━━━━━━━━━━━━━╇━━━━━━━━━━━━━━━━━━━━━━━━━━━━━╇━━━━━━━━━━━━━━━━━┩\n",
              "│ dense (<span style=\"color: #0087ff; text-decoration-color: #0087ff\">Dense</span>)                        │ (<span style=\"color: #00d7ff; text-decoration-color: #00d7ff\">None</span>, <span style=\"color: #00af00; text-decoration-color: #00af00\">32</span>)                  │             <span style=\"color: #00af00; text-decoration-color: #00af00\">160</span> │\n",
              "├──────────────────────────────────────┼─────────────────────────────┼─────────────────┤\n",
              "│ dense_1 (<span style=\"color: #0087ff; text-decoration-color: #0087ff\">Dense</span>)                      │ (<span style=\"color: #00d7ff; text-decoration-color: #00d7ff\">None</span>, <span style=\"color: #00af00; text-decoration-color: #00af00\">32</span>)                  │           <span style=\"color: #00af00; text-decoration-color: #00af00\">1,056</span> │\n",
              "├──────────────────────────────────────┼─────────────────────────────┼─────────────────┤\n",
              "│ dropout (<span style=\"color: #0087ff; text-decoration-color: #0087ff\">Dropout</span>)                    │ (<span style=\"color: #00d7ff; text-decoration-color: #00d7ff\">None</span>, <span style=\"color: #00af00; text-decoration-color: #00af00\">32</span>)                  │               <span style=\"color: #00af00; text-decoration-color: #00af00\">0</span> │\n",
              "├──────────────────────────────────────┼─────────────────────────────┼─────────────────┤\n",
              "│ dense_2 (<span style=\"color: #0087ff; text-decoration-color: #0087ff\">Dense</span>)                      │ (<span style=\"color: #00d7ff; text-decoration-color: #00d7ff\">None</span>, <span style=\"color: #00af00; text-decoration-color: #00af00\">3</span>)                   │              <span style=\"color: #00af00; text-decoration-color: #00af00\">99</span> │\n",
              "└──────────────────────────────────────┴─────────────────────────────┴─────────────────┘\n",
              "</pre>\n"
            ],
            "text/plain": [
              "┏━━━━━━━━━━━━━━━━━━━━━━━━━━━━━━━━━━━━━━┳━━━━━━━━━━━━━━━━━━━━━━━━━━━━━┳━━━━━━━━━━━━━━━━━┓\n",
              "┃\u001b[1m \u001b[0m\u001b[1mLayer (type)                        \u001b[0m\u001b[1m \u001b[0m┃\u001b[1m \u001b[0m\u001b[1mOutput Shape               \u001b[0m\u001b[1m \u001b[0m┃\u001b[1m \u001b[0m\u001b[1m        Param #\u001b[0m\u001b[1m \u001b[0m┃\n",
              "┡━━━━━━━━━━━━━━━━━━━━━━━━━━━━━━━━━━━━━━╇━━━━━━━━━━━━━━━━━━━━━━━━━━━━━╇━━━━━━━━━━━━━━━━━┩\n",
              "│ dense (\u001b[38;5;33mDense\u001b[0m)                        │ (\u001b[38;5;45mNone\u001b[0m, \u001b[38;5;34m32\u001b[0m)                  │             \u001b[38;5;34m160\u001b[0m │\n",
              "├──────────────────────────────────────┼─────────────────────────────┼─────────────────┤\n",
              "│ dense_1 (\u001b[38;5;33mDense\u001b[0m)                      │ (\u001b[38;5;45mNone\u001b[0m, \u001b[38;5;34m32\u001b[0m)                  │           \u001b[38;5;34m1,056\u001b[0m │\n",
              "├──────────────────────────────────────┼─────────────────────────────┼─────────────────┤\n",
              "│ dropout (\u001b[38;5;33mDropout\u001b[0m)                    │ (\u001b[38;5;45mNone\u001b[0m, \u001b[38;5;34m32\u001b[0m)                  │               \u001b[38;5;34m0\u001b[0m │\n",
              "├──────────────────────────────────────┼─────────────────────────────┼─────────────────┤\n",
              "│ dense_2 (\u001b[38;5;33mDense\u001b[0m)                      │ (\u001b[38;5;45mNone\u001b[0m, \u001b[38;5;34m3\u001b[0m)                   │              \u001b[38;5;34m99\u001b[0m │\n",
              "└──────────────────────────────────────┴─────────────────────────────┴─────────────────┘\n"
            ]
          },
          "metadata": {},
          "output_type": "display_data"
        },
        {
          "data": {
            "text/html": [
              "<pre style=\"white-space:pre;overflow-x:auto;line-height:normal;font-family:Menlo,'DejaVu Sans Mono',consolas,'Courier New',monospace\"><span style=\"font-weight: bold\"> Total params: </span><span style=\"color: #00af00; text-decoration-color: #00af00\">1,315</span> (5.14 KB)\n",
              "</pre>\n"
            ],
            "text/plain": [
              "\u001b[1m Total params: \u001b[0m\u001b[38;5;34m1,315\u001b[0m (5.14 KB)\n"
            ]
          },
          "metadata": {},
          "output_type": "display_data"
        },
        {
          "data": {
            "text/html": [
              "<pre style=\"white-space:pre;overflow-x:auto;line-height:normal;font-family:Menlo,'DejaVu Sans Mono',consolas,'Courier New',monospace\"><span style=\"font-weight: bold\"> Trainable params: </span><span style=\"color: #00af00; text-decoration-color: #00af00\">1,315</span> (5.14 KB)\n",
              "</pre>\n"
            ],
            "text/plain": [
              "\u001b[1m Trainable params: \u001b[0m\u001b[38;5;34m1,315\u001b[0m (5.14 KB)\n"
            ]
          },
          "metadata": {},
          "output_type": "display_data"
        },
        {
          "data": {
            "text/html": [
              "<pre style=\"white-space:pre;overflow-x:auto;line-height:normal;font-family:Menlo,'DejaVu Sans Mono',consolas,'Courier New',monospace\"><span style=\"font-weight: bold\"> Non-trainable params: </span><span style=\"color: #00af00; text-decoration-color: #00af00\">0</span> (0.00 B)\n",
              "</pre>\n"
            ],
            "text/plain": [
              "\u001b[1m Non-trainable params: \u001b[0m\u001b[38;5;34m0\u001b[0m (0.00 B)\n"
            ]
          },
          "metadata": {},
          "output_type": "display_data"
        }
      ],
      "source": [
        "model = get_models()\n",
        "model.compile(optimizer='Adam',loss='categorical_crossentropy',metrics=['accuracy'])\n",
        "model.summary()"
      ]
    },
    {
      "cell_type": "markdown",
      "metadata": {
        "id": "Sq1OO9MXJiv8"
      },
      "source": [
        "## Step 10\n",
        "### 10.1 What other options do we have for `verbose`?\n"
      ]
    },
    {
      "cell_type": "markdown",
      "metadata": {
        "id": "GBvorsKtsTn3"
      },
      "source": [
        "The verbose parameter in model.fit() controls the level of output during training:\n",
        "\n",
        "verbose=0: No output, silent mode.\n",
        "\n",
        "verbose=1: Progress bar, showing the training progress for each epoch.\n",
        "\n",
        "verbose=2: One line per epoch, showing the epoch number, loss, and metrics."
      ]
    },
    {
      "cell_type": "markdown",
      "metadata": {
        "id": "Qeq24Jz0sbwg"
      },
      "source": [
        "### 10.2 If you are asked to save the entire history of the training process, how do you do that?\n"
      ]
    },
    {
      "cell_type": "markdown",
      "metadata": {
        "id": "wqnB716ksUQA"
      },
      "source": [
        "To save the history of the training process, the model.fit() method returns a History object, which contains the training metrics (like loss and accuracy) for each epoch can be assign to a variable.\n",
        "\n",
        "example: history = model.fit(X_train,y_train,epochs=50, verbose=2)"
      ]
    },
    {
      "cell_type": "markdown",
      "metadata": {
        "id": "epMOyGTgsdsf"
      },
      "source": [
        "### 10.3 How do you plot the accuracy and loss curves after the training is over?"
      ]
    },
    {
      "cell_type": "markdown",
      "metadata": {
        "id": "dcm4235TsVAR"
      },
      "source": [
        "After training, you can plot the accuracy and loss curves to visualize the model’s performance across epochs. You can extract values for loss and accuracy from the history.history object and use matplotlib to plot them:\n",
        "\n",
        "Loss curve: Plots the training and (if applicable) validation loss over epochs.\n",
        "\n",
        "Accuracy curve: Plots the training and (if applicable) validation accuracy over epochs."
      ]
    },
    {
      "cell_type": "code",
      "execution_count": null,
      "metadata": {
        "colab": {
          "base_uri": "https://localhost:8080/"
        },
        "id": "vVEAee7kHyxG",
        "outputId": "6cd3d471-322d-49e7-9538-ba3b312669f6"
      },
      "outputs": [
        {
          "name": "stdout",
          "output_type": "stream",
          "text": [
            "Epoch 1/50\n",
            "4/4 - 2s - 495ms/step - accuracy: 0.3036 - loss: 1.1672\n",
            "Epoch 2/50\n",
            "4/4 - 0s - 45ms/step - accuracy: 0.3393 - loss: 1.1011\n",
            "Epoch 3/50\n",
            "4/4 - 0s - 14ms/step - accuracy: 0.5000 - loss: 1.0039\n",
            "Epoch 4/50\n",
            "4/4 - 0s - 9ms/step - accuracy: 0.4643 - loss: 0.9845\n",
            "Epoch 5/50\n",
            "4/4 - 0s - 16ms/step - accuracy: 0.5714 - loss: 0.9529\n",
            "Epoch 6/50\n",
            "4/4 - 0s - 14ms/step - accuracy: 0.6607 - loss: 0.8562\n",
            "Epoch 7/50\n",
            "4/4 - 0s - 9ms/step - accuracy: 0.6429 - loss: 0.8210\n",
            "Epoch 8/50\n",
            "4/4 - 0s - 9ms/step - accuracy: 0.6518 - loss: 0.8118\n",
            "Epoch 9/50\n",
            "4/4 - 0s - 15ms/step - accuracy: 0.6786 - loss: 0.7592\n",
            "Epoch 10/50\n",
            "4/4 - 0s - 15ms/step - accuracy: 0.6964 - loss: 0.7463\n",
            "Epoch 11/50\n",
            "4/4 - 0s - 14ms/step - accuracy: 0.7143 - loss: 0.6814\n",
            "Epoch 12/50\n",
            "4/4 - 0s - 14ms/step - accuracy: 0.7232 - loss: 0.6812\n",
            "Epoch 13/50\n",
            "4/4 - 0s - 14ms/step - accuracy: 0.7589 - loss: 0.6318\n",
            "Epoch 14/50\n",
            "4/4 - 0s - 14ms/step - accuracy: 0.8036 - loss: 0.5883\n",
            "Epoch 15/50\n",
            "4/4 - 0s - 15ms/step - accuracy: 0.7321 - loss: 0.5897\n",
            "Epoch 16/50\n",
            "4/4 - 0s - 10ms/step - accuracy: 0.7679 - loss: 0.5791\n",
            "Epoch 17/50\n",
            "4/4 - 0s - 9ms/step - accuracy: 0.7857 - loss: 0.5693\n",
            "Epoch 18/50\n",
            "4/4 - 0s - 14ms/step - accuracy: 0.7946 - loss: 0.5318\n",
            "Epoch 19/50\n",
            "4/4 - 0s - 9ms/step - accuracy: 0.7589 - loss: 0.5521\n",
            "Epoch 20/50\n",
            "4/4 - 0s - 9ms/step - accuracy: 0.7857 - loss: 0.5037\n",
            "Epoch 21/50\n",
            "4/4 - 0s - 9ms/step - accuracy: 0.8571 - loss: 0.4917\n",
            "Epoch 22/50\n",
            "4/4 - 0s - 14ms/step - accuracy: 0.8214 - loss: 0.4678\n",
            "Epoch 23/50\n",
            "4/4 - 0s - 15ms/step - accuracy: 0.8036 - loss: 0.4802\n",
            "Epoch 24/50\n",
            "4/4 - 0s - 14ms/step - accuracy: 0.8125 - loss: 0.4656\n",
            "Epoch 25/50\n",
            "4/4 - 0s - 14ms/step - accuracy: 0.8214 - loss: 0.4262\n",
            "Epoch 26/50\n",
            "4/4 - 0s - 9ms/step - accuracy: 0.8571 - loss: 0.4194\n",
            "Epoch 27/50\n",
            "4/4 - 0s - 14ms/step - accuracy: 0.8571 - loss: 0.3980\n",
            "Epoch 28/50\n",
            "4/4 - 0s - 11ms/step - accuracy: 0.8393 - loss: 0.4100\n",
            "Epoch 29/50\n",
            "4/4 - 0s - 14ms/step - accuracy: 0.8304 - loss: 0.4143\n",
            "Epoch 30/50\n",
            "4/4 - 0s - 14ms/step - accuracy: 0.8214 - loss: 0.3883\n",
            "Epoch 31/50\n",
            "4/4 - 0s - 14ms/step - accuracy: 0.8214 - loss: 0.4291\n",
            "Epoch 32/50\n",
            "4/4 - 0s - 32ms/step - accuracy: 0.8750 - loss: 0.3750\n",
            "Epoch 33/50\n",
            "4/4 - 0s - 13ms/step - accuracy: 0.8571 - loss: 0.3629\n",
            "Epoch 34/50\n",
            "4/4 - 0s - 9ms/step - accuracy: 0.8482 - loss: 0.3766\n",
            "Epoch 35/50\n",
            "4/4 - 0s - 14ms/step - accuracy: 0.8929 - loss: 0.3283\n",
            "Epoch 36/50\n",
            "4/4 - 0s - 10ms/step - accuracy: 0.8482 - loss: 0.3666\n",
            "Epoch 37/50\n",
            "4/4 - 0s - 33ms/step - accuracy: 0.8750 - loss: 0.3291\n",
            "Epoch 38/50\n",
            "4/4 - 0s - 16ms/step - accuracy: 0.8661 - loss: 0.3156\n",
            "Epoch 39/50\n",
            "4/4 - 0s - 32ms/step - accuracy: 0.8839 - loss: 0.3137\n",
            "Epoch 40/50\n",
            "4/4 - 0s - 15ms/step - accuracy: 0.8750 - loss: 0.3264\n",
            "Epoch 41/50\n",
            "4/4 - 0s - 33ms/step - accuracy: 0.8571 - loss: 0.3145\n",
            "Epoch 42/50\n",
            "4/4 - 0s - 15ms/step - accuracy: 0.8750 - loss: 0.3044\n",
            "Epoch 43/50\n",
            "4/4 - 0s - 14ms/step - accuracy: 0.9018 - loss: 0.2823\n",
            "Epoch 44/50\n",
            "4/4 - 0s - 34ms/step - accuracy: 0.8661 - loss: 0.3031\n",
            "Epoch 45/50\n",
            "4/4 - 0s - 13ms/step - accuracy: 0.9107 - loss: 0.2885\n",
            "Epoch 46/50\n",
            "4/4 - 0s - 13ms/step - accuracy: 0.8929 - loss: 0.2560\n",
            "Epoch 47/50\n",
            "4/4 - 0s - 13ms/step - accuracy: 0.8571 - loss: 0.2816\n",
            "Epoch 48/50\n",
            "4/4 - 0s - 14ms/step - accuracy: 0.8929 - loss: 0.2741\n",
            "Epoch 49/50\n",
            "4/4 - 0s - 13ms/step - accuracy: 0.8929 - loss: 0.2912\n",
            "Epoch 50/50\n",
            "4/4 - 0s - 15ms/step - accuracy: 0.8929 - loss: 0.2619\n"
          ]
        },
        {
          "data": {
            "text/plain": [
              "<keras.src.callbacks.history.History at 0x7cf45a1696d0>"
            ]
          },
          "execution_count": 16,
          "metadata": {},
          "output_type": "execute_result"
        }
      ],
      "source": [
        "model.fit(X_train,y_train,epochs=50, verbose=2)"
      ]
    },
    {
      "cell_type": "markdown",
      "metadata": {
        "id": "5q2Vjx6MJ4RN"
      },
      "source": [
        "## Step 11\n",
        "### 11.1 Explain the entire evaluation process in rest of the following cells."
      ]
    },
    {
      "cell_type": "markdown",
      "metadata": {
        "id": "xNRB74qAsWkm"
      },
      "source": [
        "Prediction (model.predict(X_test)):\n",
        "\n",
        "The model's performance is evaluated on the test set (X_test). Using model.predict(), the model generates predictions based on the input features. This gives us a probability distribution over classes for each test sample.\n",
        "\n",
        "Convert Probabilities to Class Labels (np.argmax(prediction, axis=-1)):\n",
        "\n",
        "The model.predict() output is a probability distribution for each class. np.argmax(prediction, axis=-1) converts these probabilities to class labels by selecting the class with the highest probability for each sample.\n",
        "\n",
        "True Labels (y_test):\n",
        "\n",
        "y_test represents the true labels for the test set, which are used for comparison with the predicted labels.\n",
        "Accuracy Calculation (accuracy_score(y_test, prediction)):\n",
        "\n",
        "The accuracy is calculated by comparing the predicted labels (prediction) with the true labels (y_test). It measures the proportion of correctly predicted labels to the total number of samples.\n",
        "\n",
        "Confusion Matrix (confusion_matrix(y_test, prediction)):\n",
        "\n",
        "The confusion matrix provides a detailed breakdown of the model's predictions:\n",
        "\n",
        "Diagonal elements represent correct predictions (true positives).\n",
        "Off-diagonal elements represent misclassifications (false positives/negatives).\n",
        "This matrix is useful for understanding which classes are being misclassified.\n",
        "\n",
        "Heatmap of Confusion Matrix (using sns.heatmap):\n",
        "\n",
        "The confusion matrix is visualized as a heatmap using seaborn. The heatmap provides a clear, color-coded view of the confusion matrix, making it easy to spot misclassifications.\n",
        "\n",
        "xticklabels and yticklabels: These are set to the species names to label the axes with the actual and predicted classes.\n",
        "\n",
        "annot=True: Displays the values inside each cell of the heatmap.\n",
        "\n",
        "fmt='d': Ensures the values are displayed as integers.\n"
      ]
    },
    {
      "cell_type": "code",
      "execution_count": null,
      "metadata": {
        "colab": {
          "base_uri": "https://localhost:8080/"
        },
        "id": "YbeJwsPeH0Su",
        "outputId": "34126f98-3ba4-4615-f982-7152225e906e"
      },
      "outputs": [
        {
          "name": "stdout",
          "output_type": "stream",
          "text": [
            "\u001b[1m2/2\u001b[0m \u001b[32m━━━━━━━━━━━━━━━━━━━━\u001b[0m\u001b[37m\u001b[0m \u001b[1m0s\u001b[0m 61ms/step\n"
          ]
        },
        {
          "data": {
            "text/plain": [
              "array([[2.04060618e-02, 2.33984649e-01, 7.45609224e-01],\n",
              "       [1.24621615e-01, 5.61846495e-01, 3.13531995e-01],\n",
              "       [9.98318613e-01, 7.94319494e-04, 8.87032948e-04],\n",
              "       [8.44890773e-02, 5.12997687e-01, 4.02513355e-01],\n",
              "       [1.17201935e-02, 8.39408517e-01, 1.48871318e-01],\n",
              "       [1.98902220e-01, 7.50180483e-01, 5.09172864e-02],\n",
              "       [1.22401537e-02, 3.49048942e-01, 6.38710856e-01],\n",
              "       [3.28100324e-02, 8.04651201e-01, 1.62538916e-01],\n",
              "       [9.98070002e-01, 1.00803073e-03, 9.22019011e-04],\n",
              "       [4.38176729e-02, 3.35764855e-01, 6.20417476e-01],\n",
              "       [8.26418772e-03, 2.57773966e-01, 7.33961761e-01],\n",
              "       [1.58917606e-01, 2.37682909e-01, 6.03399396e-01],\n",
              "       [9.99857426e-01, 4.70080195e-05, 9.55901123e-05],\n",
              "       [8.30388686e-04, 4.28385809e-02, 9.56330955e-01],\n",
              "       [9.96542871e-01, 1.75701582e-03, 1.70014752e-03],\n",
              "       [4.36701104e-02, 2.12919638e-01, 7.43410289e-01],\n",
              "       [1.10995863e-03, 3.31595659e-01, 6.67294383e-01],\n",
              "       [1.03598665e-02, 1.74773037e-01, 8.14867020e-01],\n",
              "       [9.99405980e-01, 2.30367776e-04, 3.63622268e-04],\n",
              "       [9.92619514e-01, 4.62142332e-03, 2.75894254e-03],\n",
              "       [3.90527658e-02, 8.09359252e-01, 1.51587948e-01],\n",
              "       [1.44500274e-03, 7.20570683e-02, 9.26497996e-01],\n",
              "       [3.27510126e-02, 5.07017851e-01, 4.60231125e-01],\n",
              "       [1.78546004e-03, 8.82462442e-01, 1.15752220e-01],\n",
              "       [2.84455414e-03, 2.65713125e-01, 7.31442332e-01],\n",
              "       [2.08963733e-02, 2.36622289e-01, 7.42481351e-01],\n",
              "       [4.30973135e-02, 5.79985440e-01, 3.76917243e-01],\n",
              "       [1.23198889e-02, 9.12893832e-01, 7.47862458e-02],\n",
              "       [7.61023350e-03, 4.07669663e-01, 5.84720135e-01],\n",
              "       [1.39916933e-03, 6.85987324e-02, 9.30002093e-01],\n",
              "       [8.79262481e-03, 3.10580939e-01, 6.80626333e-01],\n",
              "       [3.58698741e-02, 8.54918182e-01, 1.09211832e-01],\n",
              "       [9.99623299e-01, 1.70447194e-04, 2.06244076e-04],\n",
              "       [2.25242553e-03, 1.11258000e-01, 8.86489570e-01],\n",
              "       [3.32042053e-02, 5.48491180e-01, 4.18304652e-01],\n",
              "       [9.87083673e-01, 8.48536007e-03, 4.43093944e-03],\n",
              "       [9.96391594e-01, 1.67222857e-03, 1.93627598e-03],\n",
              "       [9.99164701e-01, 3.11006937e-04, 5.24361734e-04]], dtype=float32)"
            ]
          },
          "execution_count": 17,
          "metadata": {},
          "output_type": "execute_result"
        }
      ],
      "source": [
        "prediction = model.predict(X_test)\n",
        "prediction"
      ]
    },
    {
      "cell_type": "code",
      "execution_count": null,
      "metadata": {
        "colab": {
          "base_uri": "https://localhost:8080/"
        },
        "id": "ifdVm_mqH3D-",
        "outputId": "47915938-00e1-4307-c151-fe5c525ef250"
      },
      "outputs": [
        {
          "data": {
            "text/plain": [
              "array([2, 1, 0, 1, 1, 1, 2, 1, 0, 2, 2, 2, 0, 2, 0, 2, 2, 2, 0, 0, 1, 2,\n",
              "       1, 1, 2, 2, 1, 1, 2, 2, 2, 1, 0, 2, 1, 0, 0, 0])"
            ]
          },
          "execution_count": 18,
          "metadata": {},
          "output_type": "execute_result"
        }
      ],
      "source": [
        "prediction = np.argmax(prediction,axis=-1)\n",
        "prediction"
      ]
    },
    {
      "cell_type": "code",
      "execution_count": null,
      "metadata": {
        "colab": {
          "base_uri": "https://localhost:8080/",
          "height": 1275
        },
        "id": "yrFwBkGVH56W",
        "outputId": "76eca35b-7f97-4ac5-a5a2-301cf9846b8d"
      },
      "outputs": [
        {
          "data": {
            "text/html": [
              "<div>\n",
              "<style scoped>\n",
              "    .dataframe tbody tr th:only-of-type {\n",
              "        vertical-align: middle;\n",
              "    }\n",
              "\n",
              "    .dataframe tbody tr th {\n",
              "        vertical-align: top;\n",
              "    }\n",
              "\n",
              "    .dataframe thead th {\n",
              "        text-align: right;\n",
              "    }\n",
              "</style>\n",
              "<table border=\"1\" class=\"dataframe\">\n",
              "  <thead>\n",
              "    <tr style=\"text-align: right;\">\n",
              "      <th></th>\n",
              "      <th>Species</th>\n",
              "    </tr>\n",
              "  </thead>\n",
              "  <tbody>\n",
              "    <tr>\n",
              "      <th>149</th>\n",
              "      <td>2</td>\n",
              "    </tr>\n",
              "    <tr>\n",
              "      <th>84</th>\n",
              "      <td>1</td>\n",
              "    </tr>\n",
              "    <tr>\n",
              "      <th>40</th>\n",
              "      <td>0</td>\n",
              "    </tr>\n",
              "    <tr>\n",
              "      <th>66</th>\n",
              "      <td>1</td>\n",
              "    </tr>\n",
              "    <tr>\n",
              "      <th>106</th>\n",
              "      <td>2</td>\n",
              "    </tr>\n",
              "    <tr>\n",
              "      <th>41</th>\n",
              "      <td>0</td>\n",
              "    </tr>\n",
              "    <tr>\n",
              "      <th>52</th>\n",
              "      <td>1</td>\n",
              "    </tr>\n",
              "    <tr>\n",
              "      <th>94</th>\n",
              "      <td>1</td>\n",
              "    </tr>\n",
              "    <tr>\n",
              "      <th>11</th>\n",
              "      <td>0</td>\n",
              "    </tr>\n",
              "    <tr>\n",
              "      <th>51</th>\n",
              "      <td>1</td>\n",
              "    </tr>\n",
              "    <tr>\n",
              "      <th>77</th>\n",
              "      <td>1</td>\n",
              "    </tr>\n",
              "    <tr>\n",
              "      <th>85</th>\n",
              "      <td>1</td>\n",
              "    </tr>\n",
              "    <tr>\n",
              "      <th>32</th>\n",
              "      <td>0</td>\n",
              "    </tr>\n",
              "    <tr>\n",
              "      <th>109</th>\n",
              "      <td>2</td>\n",
              "    </tr>\n",
              "    <tr>\n",
              "      <th>28</th>\n",
              "      <td>0</td>\n",
              "    </tr>\n",
              "    <tr>\n",
              "      <th>70</th>\n",
              "      <td>1</td>\n",
              "    </tr>\n",
              "    <tr>\n",
              "      <th>108</th>\n",
              "      <td>2</td>\n",
              "    </tr>\n",
              "    <tr>\n",
              "      <th>137</th>\n",
              "      <td>2</td>\n",
              "    </tr>\n",
              "    <tr>\n",
              "      <th>46</th>\n",
              "      <td>0</td>\n",
              "    </tr>\n",
              "    <tr>\n",
              "      <th>37</th>\n",
              "      <td>0</td>\n",
              "    </tr>\n",
              "    <tr>\n",
              "      <th>82</th>\n",
              "      <td>1</td>\n",
              "    </tr>\n",
              "    <tr>\n",
              "      <th>120</th>\n",
              "      <td>2</td>\n",
              "    </tr>\n",
              "    <tr>\n",
              "      <th>63</th>\n",
              "      <td>1</td>\n",
              "    </tr>\n",
              "    <tr>\n",
              "      <th>119</th>\n",
              "      <td>2</td>\n",
              "    </tr>\n",
              "    <tr>\n",
              "      <th>129</th>\n",
              "      <td>2</td>\n",
              "    </tr>\n",
              "    <tr>\n",
              "      <th>138</th>\n",
              "      <td>2</td>\n",
              "    </tr>\n",
              "    <tr>\n",
              "      <th>97</th>\n",
              "      <td>1</td>\n",
              "    </tr>\n",
              "    <tr>\n",
              "      <th>80</th>\n",
              "      <td>1</td>\n",
              "    </tr>\n",
              "    <tr>\n",
              "      <th>101</th>\n",
              "      <td>2</td>\n",
              "    </tr>\n",
              "    <tr>\n",
              "      <th>140</th>\n",
              "      <td>2</td>\n",
              "    </tr>\n",
              "    <tr>\n",
              "      <th>126</th>\n",
              "      <td>2</td>\n",
              "    </tr>\n",
              "    <tr>\n",
              "      <th>79</th>\n",
              "      <td>1</td>\n",
              "    </tr>\n",
              "    <tr>\n",
              "      <th>22</th>\n",
              "      <td>0</td>\n",
              "    </tr>\n",
              "    <tr>\n",
              "      <th>139</th>\n",
              "      <td>2</td>\n",
              "    </tr>\n",
              "    <tr>\n",
              "      <th>74</th>\n",
              "      <td>1</td>\n",
              "    </tr>\n",
              "    <tr>\n",
              "      <th>45</th>\n",
              "      <td>0</td>\n",
              "    </tr>\n",
              "    <tr>\n",
              "      <th>36</th>\n",
              "      <td>0</td>\n",
              "    </tr>\n",
              "    <tr>\n",
              "      <th>5</th>\n",
              "      <td>0</td>\n",
              "    </tr>\n",
              "  </tbody>\n",
              "</table>\n",
              "</div><br><label><b>dtype:</b> int64</label>"
            ],
            "text/plain": [
              "149    2\n",
              "84     1\n",
              "40     0\n",
              "66     1\n",
              "106    2\n",
              "41     0\n",
              "52     1\n",
              "94     1\n",
              "11     0\n",
              "51     1\n",
              "77     1\n",
              "85     1\n",
              "32     0\n",
              "109    2\n",
              "28     0\n",
              "70     1\n",
              "108    2\n",
              "137    2\n",
              "46     0\n",
              "37     0\n",
              "82     1\n",
              "120    2\n",
              "63     1\n",
              "119    2\n",
              "129    2\n",
              "138    2\n",
              "97     1\n",
              "80     1\n",
              "101    2\n",
              "140    2\n",
              "126    2\n",
              "79     1\n",
              "22     0\n",
              "139    2\n",
              "74     1\n",
              "45     0\n",
              "36     0\n",
              "5      0\n",
              "Name: Species, dtype: int64"
            ]
          },
          "execution_count": 19,
          "metadata": {},
          "output_type": "execute_result"
        }
      ],
      "source": [
        "y_test"
      ]
    },
    {
      "cell_type": "code",
      "execution_count": null,
      "metadata": {
        "colab": {
          "base_uri": "https://localhost:8080/"
        },
        "id": "MLWd3u0hH7j3",
        "outputId": "32a3e0af-2f2c-4d8e-f060-6f4433cdfba8"
      },
      "outputs": [
        {
          "data": {
            "text/plain": [
              "0.7894736842105263"
            ]
          },
          "execution_count": 20,
          "metadata": {},
          "output_type": "execute_result"
        }
      ],
      "source": [
        "acury = accuracy_score(y_test,prediction)\n",
        "acury"
      ]
    },
    {
      "cell_type": "code",
      "execution_count": null,
      "metadata": {
        "colab": {
          "base_uri": "https://localhost:8080/"
        },
        "id": "VQ6ZcojsH81_",
        "outputId": "e49c81fb-1d4d-4f64-a110-6efa8cd32284"
      },
      "outputs": [
        {
          "data": {
            "text/plain": [
              "array([[10,  1,  0],\n",
              "       [ 0,  9,  5],\n",
              "       [ 0,  2, 11]])"
            ]
          },
          "execution_count": 21,
          "metadata": {},
          "output_type": "execute_result"
        }
      ],
      "source": [
        "cm = confusion_matrix(y_test,prediction)\n",
        "cm"
      ]
    },
    {
      "cell_type": "code",
      "execution_count": null,
      "metadata": {
        "colab": {
          "base_uri": "https://localhost:8080/",
          "height": 495
        },
        "id": "yaVlA3o-H_Hm",
        "outputId": "33d0b288-4462-4f25-9415-a41e92d18197"
      },
      "outputs": [
        {
          "data": {
            "text/plain": [
              "Text(50.72222222222221, 0.5, 'Actual')"
            ]
          },
          "execution_count": 22,
          "metadata": {},
          "output_type": "execute_result"
        },
        {
          "data": {
            "image/png": "[encoded data removed]",
            "text/plain": [
              "<Figure size 640x480 with 2 Axes>"
            ]
          },
          "metadata": {},
          "output_type": "display_data"
        }
      ],
      "source": [
        "ax = sns.heatmap(cm,annot=True, fmt='d',cmap='Reds',xticklabels=species_name,yticklabels=species_name)\n",
        "ax.set_title(\"Iris Dataset Prediction\")\n",
        "ax.set_xlabel('Prediction',fontsize=15)\n",
        "ax.set_ylabel('Actual',fontsize=15)"
      ]
    }
  ],
  "metadata": {
    "colab": {
      "provenance": []
    },
    "kernelspec": {
      "display_name": "Python 3",
      "name": "python3"
    },
    "language_info": {
      "name": "python"
    }
  },
  "nbformat": 4,
  "nbformat_minor": 0
}
